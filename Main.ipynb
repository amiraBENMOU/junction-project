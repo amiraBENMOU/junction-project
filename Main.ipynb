{
 "cells": [
  {
   "cell_type": "code",
   "execution_count": 17,
   "id": "powerful-atlantic",
   "metadata": {},
   "outputs": [],
   "source": [
    "import pandas as pd\n",
    "import numpy as np \n",
    "import sklearn as sk \n",
    "import matplotlib.pyplot as plt\n"
   ]
  },
  {
   "cell_type": "code",
   "execution_count": 18,
   "id": "double-broadcasting",
   "metadata": {},
   "outputs": [],
   "source": [
    "df=pd.read_csv('train.csv')"
   ]
  },
  {
   "cell_type": "code",
   "execution_count": 19,
   "id": "c754dbc9",
   "metadata": {},
   "outputs": [
    {
     "name": "stdout",
     "output_type": "stream",
     "text": [
      "<class 'pandas.core.frame.DataFrame'>\n",
      "RangeIndex: 115475 entries, 0 to 115474\n",
      "Data columns (total 13 columns):\n",
      " #   Column                          Non-Null Count   Dtype \n",
      "---  ------                          --------------   ----- \n",
      " 0   case_id                         115475 non-null  object\n",
      " 1   equipment_id                    115475 non-null  object\n",
      " 2   completion_date                 115475 non-null  object\n",
      " 3   action_recommendation_id        115475 non-null  object\n",
      " 4   action_recommendation_type      115475 non-null  object\n",
      " 5   action_recommendation_category  115475 non-null  object\n",
      " 6   equipment_area                  115475 non-null  object\n",
      " 7   usage_type                      115475 non-null  object\n",
      " 8   speed_category                  115475 non-null  int64 \n",
      " 9   load_category                   115475 non-null  int64 \n",
      " 10  floors_category                 115475 non-null  int64 \n",
      " 11  equipment_category              115475 non-null  object\n",
      " 12  feedback                        115475 non-null  int64 \n",
      "dtypes: int64(4), object(9)\n",
      "memory usage: 11.5+ MB\n"
     ]
    }
   ],
   "source": [
    "df.info()"
   ]
  },
  {
   "cell_type": "code",
   "execution_count": 20,
   "id": "distinguished-rating",
   "metadata": {},
   "outputs": [
    {
     "data": {
      "text/plain": [
       "case_id                           0\n",
       "equipment_id                      0\n",
       "completion_date                   0\n",
       "action_recommendation_id          0\n",
       "action_recommendation_type        0\n",
       "action_recommendation_category    0\n",
       "equipment_area                    0\n",
       "usage_type                        0\n",
       "speed_category                    0\n",
       "load_category                     0\n",
       "floors_category                   0\n",
       "equipment_category                0\n",
       "feedback                          0\n",
       "dtype: int64"
      ]
     },
     "execution_count": 20,
     "metadata": {},
     "output_type": "execute_result"
    }
   ],
   "source": [
    "df.isnull().sum()"
   ]
  },
  {
   "cell_type": "code",
   "execution_count": 21,
   "id": "8b9e2c1a",
   "metadata": {},
   "outputs": [
    {
     "data": {
      "text/html": [
       "<div>\n",
       "<style scoped>\n",
       "    .dataframe tbody tr th:only-of-type {\n",
       "        vertical-align: middle;\n",
       "    }\n",
       "\n",
       "    .dataframe tbody tr th {\n",
       "        vertical-align: top;\n",
       "    }\n",
       "\n",
       "    .dataframe thead th {\n",
       "        text-align: right;\n",
       "    }\n",
       "</style>\n",
       "<table border=\"1\" class=\"dataframe\">\n",
       "  <thead>\n",
       "    <tr style=\"text-align: right;\">\n",
       "      <th></th>\n",
       "      <th>case_id</th>\n",
       "      <th>equipment_id</th>\n",
       "      <th>completion_date</th>\n",
       "      <th>action_recommendation_id</th>\n",
       "      <th>action_recommendation_type</th>\n",
       "      <th>action_recommendation_category</th>\n",
       "      <th>equipment_area</th>\n",
       "      <th>usage_type</th>\n",
       "      <th>speed_category</th>\n",
       "      <th>load_category</th>\n",
       "      <th>floors_category</th>\n",
       "      <th>equipment_category</th>\n",
       "      <th>feedback</th>\n",
       "    </tr>\n",
       "  </thead>\n",
       "  <tbody>\n",
       "    <tr>\n",
       "      <th>0</th>\n",
       "      <td>b7c775ad-4ebe-4848-9c53-37e7c5658e21</td>\n",
       "      <td>ele0000754</td>\n",
       "      <td>2018-10-03</td>\n",
       "      <td>ar00000174</td>\n",
       "      <td>art01</td>\n",
       "      <td>arc03</td>\n",
       "      <td>ga00000803</td>\n",
       "      <td>ut012</td>\n",
       "      <td>7</td>\n",
       "      <td>6</td>\n",
       "      <td>8</td>\n",
       "      <td>tp006</td>\n",
       "      <td>1</td>\n",
       "    </tr>\n",
       "    <tr>\n",
       "      <th>1</th>\n",
       "      <td>b177eefd-3946-4949-9699-0a91879350f9</td>\n",
       "      <td>ele0000789</td>\n",
       "      <td>2018-10-03</td>\n",
       "      <td>ar00000248</td>\n",
       "      <td>art02</td>\n",
       "      <td>arc03</td>\n",
       "      <td>ga00000269</td>\n",
       "      <td>ut005</td>\n",
       "      <td>4</td>\n",
       "      <td>6</td>\n",
       "      <td>2</td>\n",
       "      <td>tp001</td>\n",
       "      <td>1</td>\n",
       "    </tr>\n",
       "    <tr>\n",
       "      <th>2</th>\n",
       "      <td>fc2d568a-c53c-43ef-8871-a49ec22ab3b1</td>\n",
       "      <td>ele0001227</td>\n",
       "      <td>2018-10-03</td>\n",
       "      <td>ar00000158</td>\n",
       "      <td>art02</td>\n",
       "      <td>arc03</td>\n",
       "      <td>ga00000064</td>\n",
       "      <td>ut011</td>\n",
       "      <td>6</td>\n",
       "      <td>6</td>\n",
       "      <td>7</td>\n",
       "      <td>tp006</td>\n",
       "      <td>1</td>\n",
       "    </tr>\n",
       "    <tr>\n",
       "      <th>3</th>\n",
       "      <td>8e645922-1268-4c6b-ae6b-7b1605689cca</td>\n",
       "      <td>ele0001754</td>\n",
       "      <td>2018-10-03</td>\n",
       "      <td>ar00000105</td>\n",
       "      <td>art01</td>\n",
       "      <td>arc03</td>\n",
       "      <td>ga00000662</td>\n",
       "      <td>ut005</td>\n",
       "      <td>8</td>\n",
       "      <td>7</td>\n",
       "      <td>8</td>\n",
       "      <td>tp014</td>\n",
       "      <td>1</td>\n",
       "    </tr>\n",
       "    <tr>\n",
       "      <th>4</th>\n",
       "      <td>b44f10b1-9238-44db-8f0c-2d68e8c015a7</td>\n",
       "      <td>ele0002087</td>\n",
       "      <td>2018-10-03</td>\n",
       "      <td>ar00000148</td>\n",
       "      <td>art02</td>\n",
       "      <td>arc03</td>\n",
       "      <td>ga00001256</td>\n",
       "      <td>ut011</td>\n",
       "      <td>7</td>\n",
       "      <td>6</td>\n",
       "      <td>8</td>\n",
       "      <td>tp013</td>\n",
       "      <td>1</td>\n",
       "    </tr>\n",
       "  </tbody>\n",
       "</table>\n",
       "</div>"
      ],
      "text/plain": [
       "                                case_id equipment_id completion_date  \\\n",
       "0  b7c775ad-4ebe-4848-9c53-37e7c5658e21   ele0000754      2018-10-03   \n",
       "1  b177eefd-3946-4949-9699-0a91879350f9   ele0000789      2018-10-03   \n",
       "2  fc2d568a-c53c-43ef-8871-a49ec22ab3b1   ele0001227      2018-10-03   \n",
       "3  8e645922-1268-4c6b-ae6b-7b1605689cca   ele0001754      2018-10-03   \n",
       "4  b44f10b1-9238-44db-8f0c-2d68e8c015a7   ele0002087      2018-10-03   \n",
       "\n",
       "  action_recommendation_id action_recommendation_type  \\\n",
       "0               ar00000174                      art01   \n",
       "1               ar00000248                      art02   \n",
       "2               ar00000158                      art02   \n",
       "3               ar00000105                      art01   \n",
       "4               ar00000148                      art02   \n",
       "\n",
       "  action_recommendation_category equipment_area usage_type  speed_category  \\\n",
       "0                          arc03     ga00000803      ut012               7   \n",
       "1                          arc03     ga00000269      ut005               4   \n",
       "2                          arc03     ga00000064      ut011               6   \n",
       "3                          arc03     ga00000662      ut005               8   \n",
       "4                          arc03     ga00001256      ut011               7   \n",
       "\n",
       "   load_category  floors_category equipment_category  feedback  \n",
       "0              6                8              tp006         1  \n",
       "1              6                2              tp001         1  \n",
       "2              6                7              tp006         1  \n",
       "3              7                8              tp014         1  \n",
       "4              6                8              tp013         1  "
      ]
     },
     "execution_count": 21,
     "metadata": {},
     "output_type": "execute_result"
    }
   ],
   "source": [
    "df.head(5)"
   ]
  },
  {
   "cell_type": "code",
   "execution_count": 23,
   "id": "drawn-calculation",
   "metadata": {},
   "outputs": [
    {
     "data": {
      "text/html": [
       "<div>\n",
       "<style scoped>\n",
       "    .dataframe tbody tr th:only-of-type {\n",
       "        vertical-align: middle;\n",
       "    }\n",
       "\n",
       "    .dataframe tbody tr th {\n",
       "        vertical-align: top;\n",
       "    }\n",
       "\n",
       "    .dataframe thead th {\n",
       "        text-align: right;\n",
       "    }\n",
       "</style>\n",
       "<table border=\"1\" class=\"dataframe\">\n",
       "  <thead>\n",
       "    <tr style=\"text-align: right;\">\n",
       "      <th></th>\n",
       "      <th>case_id</th>\n",
       "      <th>equipment_id</th>\n",
       "      <th>completion_date</th>\n",
       "      <th>action_recommendation_id</th>\n",
       "      <th>action_recommendation_type</th>\n",
       "      <th>action_recommendation_category</th>\n",
       "      <th>equipment_area</th>\n",
       "      <th>usage_type</th>\n",
       "      <th>speed_category</th>\n",
       "      <th>load_category</th>\n",
       "      <th>floors_category</th>\n",
       "      <th>equipment_category</th>\n",
       "      <th>feedback</th>\n",
       "    </tr>\n",
       "  </thead>\n",
       "  <tbody>\n",
       "    <tr>\n",
       "      <th>0</th>\n",
       "      <td>53095.0</td>\n",
       "      <td>753.0</td>\n",
       "      <td>0.0</td>\n",
       "      <td>173.0</td>\n",
       "      <td>0.0</td>\n",
       "      <td>2.0</td>\n",
       "      <td>802.0</td>\n",
       "      <td>802.0</td>\n",
       "      <td>7</td>\n",
       "      <td>6</td>\n",
       "      <td>8</td>\n",
       "      <td>6.0</td>\n",
       "      <td>1</td>\n",
       "    </tr>\n",
       "    <tr>\n",
       "      <th>1</th>\n",
       "      <td>51324.0</td>\n",
       "      <td>788.0</td>\n",
       "      <td>0.0</td>\n",
       "      <td>247.0</td>\n",
       "      <td>1.0</td>\n",
       "      <td>2.0</td>\n",
       "      <td>268.0</td>\n",
       "      <td>268.0</td>\n",
       "      <td>4</td>\n",
       "      <td>6</td>\n",
       "      <td>2</td>\n",
       "      <td>1.0</td>\n",
       "      <td>1</td>\n",
       "    </tr>\n",
       "    <tr>\n",
       "      <th>2</th>\n",
       "      <td>72877.0</td>\n",
       "      <td>1226.0</td>\n",
       "      <td>0.0</td>\n",
       "      <td>157.0</td>\n",
       "      <td>1.0</td>\n",
       "      <td>2.0</td>\n",
       "      <td>63.0</td>\n",
       "      <td>63.0</td>\n",
       "      <td>6</td>\n",
       "      <td>6</td>\n",
       "      <td>7</td>\n",
       "      <td>6.0</td>\n",
       "      <td>1</td>\n",
       "    </tr>\n",
       "    <tr>\n",
       "      <th>3</th>\n",
       "      <td>41103.0</td>\n",
       "      <td>1753.0</td>\n",
       "      <td>0.0</td>\n",
       "      <td>104.0</td>\n",
       "      <td>0.0</td>\n",
       "      <td>2.0</td>\n",
       "      <td>661.0</td>\n",
       "      <td>661.0</td>\n",
       "      <td>8</td>\n",
       "      <td>7</td>\n",
       "      <td>8</td>\n",
       "      <td>14.0</td>\n",
       "      <td>1</td>\n",
       "    </tr>\n",
       "    <tr>\n",
       "      <th>4</th>\n",
       "      <td>52110.0</td>\n",
       "      <td>2086.0</td>\n",
       "      <td>0.0</td>\n",
       "      <td>147.0</td>\n",
       "      <td>1.0</td>\n",
       "      <td>2.0</td>\n",
       "      <td>1255.0</td>\n",
       "      <td>1255.0</td>\n",
       "      <td>7</td>\n",
       "      <td>6</td>\n",
       "      <td>8</td>\n",
       "      <td>13.0</td>\n",
       "      <td>1</td>\n",
       "    </tr>\n",
       "  </tbody>\n",
       "</table>\n",
       "</div>"
      ],
      "text/plain": [
       "   case_id  equipment_id  completion_date  action_recommendation_id  \\\n",
       "0  53095.0         753.0              0.0                     173.0   \n",
       "1  51324.0         788.0              0.0                     247.0   \n",
       "2  72877.0        1226.0              0.0                     157.0   \n",
       "3  41103.0        1753.0              0.0                     104.0   \n",
       "4  52110.0        2086.0              0.0                     147.0   \n",
       "\n",
       "   action_recommendation_type  action_recommendation_category  equipment_area  \\\n",
       "0                         0.0                             2.0           802.0   \n",
       "1                         1.0                             2.0           268.0   \n",
       "2                         1.0                             2.0            63.0   \n",
       "3                         0.0                             2.0           661.0   \n",
       "4                         1.0                             2.0          1255.0   \n",
       "\n",
       "   usage_type  speed_category  load_category  floors_category  \\\n",
       "0       802.0               7              6                8   \n",
       "1       268.0               4              6                2   \n",
       "2        63.0               6              6                7   \n",
       "3       661.0               8              7                8   \n",
       "4      1255.0               7              6                8   \n",
       "\n",
       "   equipment_category  feedback  \n",
       "0                 6.0         1  \n",
       "1                 1.0         1  \n",
       "2                 6.0         1  \n",
       "3                14.0         1  \n",
       "4                13.0         1  "
      ]
     },
     "execution_count": 23,
     "metadata": {},
     "output_type": "execute_result"
    }
   ],
   "source": [
    "#convertire les variable qualitative\n",
    "from sklearn.preprocessing import OrdinalEncoder\n",
    "ord_enc = OrdinalEncoder()\n",
    "df[\"case_id\"] = ord_enc.fit_transform(df[[\"case_id\"]])\n",
    "df[\"equipment_id\"] = ord_enc.fit_transform(df[[\"equipment_id\"]])\n",
    "df[\"completion_date\"] = ord_enc.fit_transform(df[[\"completion_date\"]])\n",
    "df[\"action_recommendation_id\"] = ord_enc.fit_transform(df[[\"action_recommendation_id\"]])\n",
    "df[\"action_recommendation_type\"] = ord_enc.fit_transform(df[[\"action_recommendation_type\"]])\n",
    "df[\"action_recommendation_category\"] = ord_enc.fit_transform(df[[\"action_recommendation_category\"]])\n",
    "df[\"equipment_area\"] = ord_enc.fit_transform(df[[\"equipment_area\"]])\n",
    "df[\"usage_type\"] = ord_enc.fit_transform(df[[\"equipment_area\"]])\n",
    "df[\"equipment_category\"] = ord_enc.fit_transform(df[[\"equipment_category\"]])\n",
    "\n",
    "df.head(5)"
   ]
  },
  {
   "cell_type": "code",
   "execution_count": 35,
   "id": "exposed-paste",
   "metadata": {},
   "outputs": [],
   "source": [
    "y= df['feedback'] #récupérer la colonne de target dans Y\n",
    "X= df.drop('feedback', axis=1) #Récupérez le reste des colonnes comme features"
   ]
  },
  {
   "cell_type": "code",
   "execution_count": 36,
   "id": "talented-saver",
   "metadata": {},
   "outputs": [],
   "source": [
    "from sklearn.preprocessing import scale #en charge la fonction de normalisation à partir de la bibliothèque sklearn\n",
    "XX = scale(X) # normaliser les données"
   ]
  },
  {
   "cell_type": "code",
   "execution_count": 37,
   "id": "colonial-facial",
   "metadata": {},
   "outputs": [],
   "source": [
    "from sklearn.model_selection import train_test_split\n",
    "X_train, X_test, y_train, y_test = train_test_split(X, y, test_size = 0.4, stratify=y)"
   ]
  },
  {
   "cell_type": "code",
   "execution_count": 38,
   "id": "joined-philadelphia",
   "metadata": {},
   "outputs": [
    {
     "name": "stdout",
     "output_type": "stream",
     "text": [
      "fP : 0.19389478242043737\n",
      "fn:  0.12835871160183784\n",
      "RMSE 0.35827184036962473\n"
     ]
    }
   ],
   "source": [
    "from sklearn.metrics import mean_squared_error,mean_absolute_error\n",
    "\n",
    "from sklearn.neighbors import KNeighborsRegressor\n",
    "knn = KNeighborsRegressor(n_neighbors=3)\n",
    "knn.fit(X_train,y_train)\n",
    "\n",
    "y_pred=knn.predict(X_test)\n",
    "#Calculer les erreurs MAE, MSE, RMSE\n",
    "print('fP :',mean_absolute_error(y_test,y_pred))\n",
    "print('fn: ', mean_squared_error(y_test,y_pred))\n",
    "print('RMSE', np.sqrt(mean_squared_error(y_test,y_pred)))"
   ]
  },
  {
   "cell_type": "code",
   "execution_count": 39,
   "id": "cognitive-electric",
   "metadata": {},
   "outputs": [],
   "source": [
    "#Charger le grid search qui cherche les paramètres optimaux d'un modèle\n",
    "from sklearn.model_selection import GridSearchCV\n",
    "#Charger le classificateur KNN\n",
    "from sklearn.neighbors import KNeighborsClassifier\n",
    "grid_params={\n",
    "    'n_neighbors':[3,5,7,9,11],\n",
    "    'metric':['euclidean','manhattan']\n",
    "}\n",
    "\n",
    "#Créer un objet grid search avec les paramètres et le modèle à tester\n",
    "gs=GridSearchCV(\n",
    "    KNeighborsClassifier(),\n",
    "    grid_params,\n",
    "    cv=5 #nombre de folds dans la cross validation\n",
    ")\n",
    "gs_results=gs.fit(X_train, y_train) #lancer le grid search et la cross validation"
   ]
  },
  {
   "cell_type": "code",
   "execution_count": 40,
   "id": "significant-going",
   "metadata": {},
   "outputs": [
    {
     "data": {
      "text/plain": [
       "{'metric': 'manhattan', 'n_neighbors': 11}"
      ]
     },
     "execution_count": 40,
     "metadata": {},
     "output_type": "execute_result"
    }
   ],
   "source": [
    "gs_results.best_params_"
   ]
  },
  {
   "cell_type": "code",
   "execution_count": 41,
   "id": "trying-cutting",
   "metadata": {},
   "outputs": [],
   "source": [
    "#Créer une instance knn avec les paramètres optimaux trouvés\n",
    "knn= KNeighborsClassifier(n_neighbors=3,metric='manhattan')\n",
    "#Lancer l'apprentissage\n",
    "knn.fit(X_train, y_train)#entraîner le modèles\n",
    "y_pred=knn.predict(X_test) #evaluer le modèles"
   ]
  },
  {
   "cell_type": "code",
   "execution_count": 42,
   "id": "brutal-stomach",
   "metadata": {},
   "outputs": [
    {
     "name": "stdout",
     "output_type": "stream",
     "text": [
      "precision= 0.8885554683532616\n",
      "recall= 0.9495313270843612\n"
     ]
    }
   ],
   "source": [
    "#afficher la précision et le rappel\n",
    "from sklearn.metrics import precision_score, recall_score\n",
    "print('precision=',precision_score(y_test,y_pred))\n",
    "print('recall=',recall_score(y_test,y_pred))"
   ]
  },
  {
   "cell_type": "code",
   "execution_count": 43,
   "id": "inappropriate-inclusion",
   "metadata": {},
   "outputs": [
    {
     "data": {
      "text/plain": [
       "array([[  822,  4828],\n",
       "       [ 2046, 38494]], dtype=int64)"
      ]
     },
     "execution_count": 43,
     "metadata": {},
     "output_type": "execute_result"
    }
   ],
   "source": [
    "#Afficher la matrice de confusion\n",
    "from sklearn.metrics import  confusion_matrix\n",
    "confusion_matrix(y_test, y_pred)\n"
   ]
  },
  {
   "cell_type": "code",
   "execution_count": 2,
   "id": "prompt-tours",
   "metadata": {},
   "outputs": [],
   "source": [
    "#oui ce changement a un impact sur les performances du classificateur , désormais il detecte plus faut positf et de faux negatifs meme si ils restent negligable et la precision et le recall ont eux aussi légerement diminué et ceci a cause de l ajout de cas d'anomalie dans la partie training ce qui a rendu notre modéle plus correct ."
   ]
  },
  {
   "cell_type": "code",
   "execution_count": null,
   "id": "sorted-rotation",
   "metadata": {},
   "outputs": [],
   "source": []
  }
 ],
 "metadata": {
  "kernelspec": {
   "display_name": "Python 3 (ipykernel)",
   "language": "python",
   "name": "python3"
  },
  "language_info": {
   "codemirror_mode": {
    "name": "ipython",
    "version": 3
   },
   "file_extension": ".py",
   "mimetype": "text/x-python",
   "name": "python",
   "nbconvert_exporter": "python",
   "pygments_lexer": "ipython3",
   "version": "3.9.6"
  }
 },
 "nbformat": 4,
 "nbformat_minor": 5
}
